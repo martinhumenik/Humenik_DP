{
 "cells": [
  {
   "cell_type": "markdown",
   "id": "8c02de00-44be-46dd-895c-39b5b96a02d1",
   "metadata": {},
   "source": [
    "# Importovanie kniznic"
   ]
  },
  {
   "cell_type": "code",
   "execution_count": 1,
   "id": "0909e304-e3c9-4332-b47d-93d6394a396f",
   "metadata": {
    "tags": []
   },
   "outputs": [],
   "source": [
    "import os\n",
    "import pandas as pd\n",
    "import numpy as np\n",
    "import matplotlib.pyplot as plt\n",
    "\n",
    "from datetime import datetime, time, date"
   ]
  },
  {
   "cell_type": "code",
   "execution_count": 2,
   "id": "92c82cb2-0880-4111-812d-b0efe63cdf18",
   "metadata": {},
   "outputs": [
    {
     "data": {
      "text/plain": [
       "'/home/jovyan/data/lightning/MartinHumenik/DP'"
      ]
     },
     "execution_count": 2,
     "metadata": {},
     "output_type": "execute_result"
    }
   ],
   "source": [
    "os.getcwd()"
   ]
  },
  {
   "cell_type": "markdown",
   "id": "9736a86b-964e-416a-b8fe-cf920abb614e",
   "metadata": {},
   "source": [
    "# Predspracovanie amplitudy"
   ]
  },
  {
   "cell_type": "code",
   "execution_count": 4,
   "id": "505e735b-d1c6-4d39-918c-58cbcf82b52b",
   "metadata": {},
   "outputs": [],
   "source": [
    "# Nacitanie dat z .txt suborov\n",
    "def load_data(file: str) -> pd.DataFrame:\n",
    "    data_list = []\n",
    "    with open(file, \"r\") as f:\n",
    "        for row in f.readlines():\n",
    "            data_list.append(row.split()[1:8])\n",
    "        f.close()\n",
    "    data_df = pd.DataFrame(data=data_list, columns=[\"year\", \"month\", \"day\", \"hour\", \"minute\", \"second\", \"amplitude\"])\n",
    "    data_df['amplitude'] = data_df['amplitude'].astype(float)\n",
    "    data_df['second'] = data_df['second'].astype(float)\n",
    "    \n",
    "    return data_df\n",
    "\n",
    "# odstranenie zaznamov s nan hodnotami\n",
    "def remove_nan_values(df: pd.DataFrame):   \n",
    "    if any(data_df.isna().any(axis=1)):\n",
    "        df.dropna(inplace=True)\n",
    "\n",
    "# predspracovanie amplitudy\n",
    "def preprocess_data(df: pd.DataFrame) -> pd.DataFrame:\n",
    "    count_a_base(df)           \n",
    "    count_da(df)\n",
    "    remove_nan_values(df)\n",
    "    count_a_noise(df)\n",
    "    \n",
    "    return df\n",
    "\n",
    "# vypocet A_base\n",
    "def count_a_base(df: pd.DataFrame):\n",
    "    for idx, row in df.iterrows():\n",
    "        if 50 <= idx < len(df)-50:\n",
    "            df.loc[idx, \"A_base\"] = np.mean(df[\"amplitude\"][idx-50:idx+50])\n",
    "\n",
    "# vypocet dA a dA_abs\n",
    "def count_da(df: pd.DataFrame):\n",
    "    df[\"dA\"] = df[\"amplitude\"] - df[\"A_base\"]\n",
    "    df[\"dA_abs\"] = np.abs(df[\"dA\"])\n",
    "\n",
    "# vypocet a_noise\n",
    "def count_a_noise(df: pd.DataFrame):\n",
    "    for idx in range(0, len(df), 600):\n",
    "        dA_bin = sorted(df[\"dA_abs\"].iloc[idx:idx+600], reverse=True)[30:] # 5% najvacsich hodnot treba odstranit\n",
    "        df.loc[idx:idx+599, \"A_noise\"] = dA_bin[0]\n",
    "\n",
    "# odvodenie atributov date a time\n",
    "def create_date_and_time(df: pd.DataFrame):\n",
    "    df[\"date\"] = df.apply(lambda row: date(int(row[\"year\"]), int(row[\"month\"]), int(row[\"day\"])), axis=1)\n",
    "    df[\"time\"] = df.apply(lambda row: time(int(row['hour']), int(row[\"minute\"]), int(row[\"second\"])), axis=1)\n",
    "    df.drop(columns=[\"year\", \"month\", \"day\"], inplace=True)"
   ]
  },
  {
   "cell_type": "code",
   "execution_count": null,
   "id": "aff38dcc-1b3b-4cea-858d-d104cd907eaa",
   "metadata": {},
   "outputs": [],
   "source": []
  },
  {
   "cell_type": "code",
   "execution_count": null,
   "id": "e53a354d-97c3-4eee-b38b-0746568ff1fe",
   "metadata": {},
   "outputs": [],
   "source": []
  },
  {
   "cell_type": "code",
   "execution_count": null,
   "id": "f4a088fd-ce1e-4db6-93c7-f9d6e4faecf3",
   "metadata": {},
   "outputs": [],
   "source": []
  },
  {
   "cell_type": "markdown",
   "id": "755d7c35-5ed4-487d-bc89-083922c559f7",
   "metadata": {},
   "source": [
    "## Spracovanie amplitudy pre vsetky vysielace"
   ]
  },
  {
   "cell_type": "code",
   "execution_count": 21,
   "id": "0bcaa0f4-aa67-4373-a9d4-76235dc47eb8",
   "metadata": {
    "tags": []
   },
   "outputs": [],
   "source": [
    "for folder in [\"GVT\", \"ICV\", \"JXN\"]:\n",
    "    for file in os.listdir(f\"signals/{folder}\"):\n",
    "        data_df = load_data(f\"signals/{folder}/{file}\")\n",
    "        remove_nan_values(data_df)\n",
    "        create_date_and_time(data_df)\n",
    "        day = str(data_df[\"date\"][0])\n",
    "        data_df.to_csv(f\"raw_amplitudes/{folder}/{day}_{folder}_data.csv\")"
   ]
  },
  {
   "cell_type": "code",
   "execution_count": 19,
   "id": "b2698448-8452-4c93-8da0-fa89a95db48f",
   "metadata": {
    "tags": []
   },
   "outputs": [
    {
     "data": {
      "text/html": [
       "<div>\n",
       "<style scoped>\n",
       "    .dataframe tbody tr th:only-of-type {\n",
       "        vertical-align: middle;\n",
       "    }\n",
       "\n",
       "    .dataframe tbody tr th {\n",
       "        vertical-align: top;\n",
       "    }\n",
       "\n",
       "    .dataframe thead th {\n",
       "        text-align: right;\n",
       "    }\n",
       "</style>\n",
       "<table border=\"1\" class=\"dataframe\">\n",
       "  <thead>\n",
       "    <tr style=\"text-align: right;\">\n",
       "      <th></th>\n",
       "      <th>hour</th>\n",
       "      <th>minute</th>\n",
       "      <th>second</th>\n",
       "      <th>amplitude</th>\n",
       "      <th>date</th>\n",
       "      <th>time</th>\n",
       "    </tr>\n",
       "  </thead>\n",
       "  <tbody>\n",
       "    <tr>\n",
       "      <th>0</th>\n",
       "      <td>0</td>\n",
       "      <td>0</td>\n",
       "      <td>0.0</td>\n",
       "      <td>65.9296</td>\n",
       "      <td>2016-10-13</td>\n",
       "      <td>00:00:00</td>\n",
       "    </tr>\n",
       "    <tr>\n",
       "      <th>1</th>\n",
       "      <td>0</td>\n",
       "      <td>0</td>\n",
       "      <td>0.1</td>\n",
       "      <td>65.7720</td>\n",
       "      <td>2016-10-13</td>\n",
       "      <td>00:00:00</td>\n",
       "    </tr>\n",
       "    <tr>\n",
       "      <th>2</th>\n",
       "      <td>0</td>\n",
       "      <td>0</td>\n",
       "      <td>0.2</td>\n",
       "      <td>65.3830</td>\n",
       "      <td>2016-10-13</td>\n",
       "      <td>00:00:00</td>\n",
       "    </tr>\n",
       "    <tr>\n",
       "      <th>3</th>\n",
       "      <td>0</td>\n",
       "      <td>0</td>\n",
       "      <td>0.3</td>\n",
       "      <td>64.7699</td>\n",
       "      <td>2016-10-13</td>\n",
       "      <td>00:00:00</td>\n",
       "    </tr>\n",
       "    <tr>\n",
       "      <th>4</th>\n",
       "      <td>0</td>\n",
       "      <td>0</td>\n",
       "      <td>0.4</td>\n",
       "      <td>64.2700</td>\n",
       "      <td>2016-10-13</td>\n",
       "      <td>00:00:00</td>\n",
       "    </tr>\n",
       "  </tbody>\n",
       "</table>\n",
       "</div>"
      ],
      "text/plain": [
       "  hour minute  second  amplitude        date      time\n",
       "0    0      0     0.0    65.9296  2016-10-13  00:00:00\n",
       "1    0      0     0.1    65.7720  2016-10-13  00:00:00\n",
       "2    0      0     0.2    65.3830  2016-10-13  00:00:00\n",
       "3    0      0     0.3    64.7699  2016-10-13  00:00:00\n",
       "4    0      0     0.4    64.2700  2016-10-13  00:00:00"
      ]
     },
     "execution_count": 19,
     "metadata": {},
     "output_type": "execute_result"
    }
   ],
   "source": [
    "data_df.head()"
   ]
  },
  {
   "cell_type": "code",
   "execution_count": null,
   "id": "4eca3d73-9cbc-4d9a-8d14-506a79bb68db",
   "metadata": {},
   "outputs": [],
   "source": []
  },
  {
   "cell_type": "code",
   "execution_count": null,
   "id": "18dec5d3-8ecd-4f2f-9da1-0bc2cec03b1b",
   "metadata": {
    "collapsed": true,
    "jupyter": {
     "outputs_hidden": true
    },
    "tags": []
   },
   "outputs": [
    {
     "name": "stdout",
     "output_type": "stream",
     "text": [
      "file 2016-10-15_GVT_data.csv has been processed\n",
      "file 2016-10-14_GVT_data.csv has been processed\n",
      "file 2016-10-13_GVT_data.csv has been processed\n",
      "file 2016-10-12_GVT_data.csv has been processed\n",
      "file 2016-10-11_GVT_data.csv has been processed\n",
      "file 2016-10-10_GVT_data.csv has been processed\n",
      "file 2016-10-09_GVT_data.csv has been processed\n",
      "file 2016-10-08_GVT_data.csv has been processed\n",
      "file 2016-10-06_GVT_data.csv has been processed\n",
      "file 2016-10-05_GVT_data.csv has been processed\n",
      "file 2016-10-04_GVT_data.csv has been processed\n",
      "file 2016-10-03_GVT_data.csv has been processed\n",
      "file 2016-10-02_GVT_data.csv has been processed\n",
      "file 2016-10-01_GVT_data.csv has been processed\n",
      "file 2016-10-31_GVT_data.csv has been processed\n",
      "file 2016-10-30_GVT_data.csv has been processed\n",
      "file 2016-10-29_GVT_data.csv has been processed\n",
      "file 2016-10-28_GVT_data.csv has been processed\n",
      "file 2016-10-26_GVT_data.csv has been processed\n",
      "file 2016-10-24_GVT_data.csv has been processed\n",
      "file 2016-10-23_GVT_data.csv has been processed\n",
      "file 2016-10-22_GVT_data.csv has been processed\n",
      "file 2016-10-21_GVT_data.csv has been processed\n",
      "file 2016-10-20_GVT_data.csv has been processed\n",
      "file 2016-10-19_GVT_data.csv has been processed\n",
      "file 2016-10-18_GVT_data.csv has been processed\n",
      "file 2016-10-17_GVT_data.csv has been processed\n",
      "file 2016-10-16_GVT_data.csv has been processed\n",
      "file 2016-11-15_GVT_data.csv has been processed\n",
      "file 2016-11-14_GVT_data.csv has been processed\n",
      "file 2016-11-13_GVT_data.csv has been processed\n",
      "file 2016-11-12_GVT_data.csv has been processed\n",
      "file 2016-11-11_GVT_data.csv has been processed\n",
      "file 2016-11-10_GVT_data.csv has been processed\n",
      "file 2016-11-09_GVT_data.csv has been processed\n",
      "file 2016-11-08_GVT_data.csv has been processed\n",
      "file 2016-11-07_GVT_data.csv has been processed\n",
      "file 2016-11-06_GVT_data.csv has been processed\n",
      "file 2016-11-05_GVT_data.csv has been processed\n",
      "file 2016-11-04_GVT_data.csv has been processed\n",
      "file 2016-11-03_GVT_data.csv has been processed\n",
      "file 2016-11-02_GVT_data.csv has been processed\n",
      "file 2016-11-01_GVT_data.csv has been processed\n",
      "file 2016-11-15_ICV_data.csv has been processed\n",
      "file 2016-11-14_ICV_data.csv has been processed\n",
      "file 2016-11-13_ICV_data.csv has been processed\n",
      "file 2016-11-12_ICV_data.csv has been processed\n",
      "file 2016-11-11_ICV_data.csv has been processed\n",
      "file 2016-11-10_ICV_data.csv has been processed\n",
      "file 2016-11-09_ICV_data.csv has been processed\n",
      "file 2016-11-08_ICV_data.csv has been processed\n",
      "file 2016-11-07_ICV_data.csv has been processed\n",
      "file 2016-11-06_ICV_data.csv has been processed\n",
      "file 2016-11-05_ICV_data.csv has been processed\n",
      "file 2016-11-04_ICV_data.csv has been processed\n",
      "file 2016-11-03_ICV_data.csv has been processed\n",
      "file 2016-11-02_ICV_data.csv has been processed\n",
      "file 2016-11-01_ICV_data.csv has been processed\n",
      "file 2016-10-31_ICV_data.csv has been processed\n",
      "file 2016-10-30_ICV_data.csv has been processed\n",
      "file 2016-10-29_ICV_data.csv has been processed\n",
      "file 2016-10-28_ICV_data.csv has been processed\n",
      "file 2016-10-27_ICV_data.csv has been processed\n",
      "file 2016-10-26_ICV_data.csv has been processed\n",
      "file 2016-10-25_ICV_data.csv has been processed\n",
      "file 2016-10-24_ICV_data.csv has been processed\n",
      "file 2016-10-23_ICV_data.csv has been processed\n",
      "file 2016-10-22_ICV_data.csv has been processed\n",
      "file 2016-10-21_ICV_data.csv has been processed\n",
      "file 2016-10-20_ICV_data.csv has been processed\n",
      "file 2016-10-19_ICV_data.csv has been processed\n",
      "file 2016-10-18_ICV_data.csv has been processed\n",
      "file 2016-10-17_ICV_data.csv has been processed\n",
      "file 2016-10-15_ICV_data.csv has been processed\n",
      "file 2016-10-14_ICV_data.csv has been processed\n",
      "file 2016-10-13_ICV_data.csv has been processed\n"
     ]
    }
   ],
   "source": [
    "for folder in [\"GVT\", \"ICV\", \"JXN\"]:\n",
    "    for file in os.listdir(f\"raw_amplitudes/{folder}\"):\n",
    "        if \".csv\" in file:    \n",
    "            data_df = pd.read_csv(f\"raw_amplitudes/{folder}/{file}\", index_col=0)\n",
    "            remove_nan_values(data_df)\n",
    "            df = preprocess_data(data_df)\n",
    "            df[\"datetime\"] = pd.to_datetime(df[\"date\"] + \" \" + df[\"time\"])\n",
    "            df.to_csv(f\"amplitudes/{folder}/{file}\")\n",
    "            print(f\"file {file} has been processed\")"
   ]
  },
  {
   "cell_type": "code",
   "execution_count": null,
   "id": "72ebe62a-f695-4db0-92bd-68b03b8b8b6f",
   "metadata": {},
   "outputs": [],
   "source": []
  },
  {
   "cell_type": "markdown",
   "id": "ff4acc83-3ce0-4fcc-bfd2-9a8a3ea371a4",
   "metadata": {},
   "source": [
    "# Earthquakes preprocessing"
   ]
  },
  {
   "cell_type": "code",
   "execution_count": 14,
   "id": "748245a0-5d31-4112-84ed-baa9aed2b442",
   "metadata": {},
   "outputs": [],
   "source": [
    "# odvodenie hour, minute, second atributov\n",
    "def parse_time(time):\n",
    "    time = datetime.strptime(time, \"%H:%M:%S\")\n",
    "    return time.hour, time.minute, time.second"
   ]
  },
  {
   "cell_type": "code",
   "execution_count": 19,
   "id": "81e12b1f-771f-49a2-8e0e-eebc63ee9420",
   "metadata": {},
   "outputs": [
    {
     "data": {
      "text/html": [
       "<div>\n",
       "<style scoped>\n",
       "    .dataframe tbody tr th:only-of-type {\n",
       "        vertical-align: middle;\n",
       "    }\n",
       "\n",
       "    .dataframe tbody tr th {\n",
       "        vertical-align: top;\n",
       "    }\n",
       "\n",
       "    .dataframe thead th {\n",
       "        text-align: right;\n",
       "    }\n",
       "</style>\n",
       "<table border=\"1\" class=\"dataframe\">\n",
       "  <thead>\n",
       "    <tr style=\"text-align: right;\">\n",
       "      <th></th>\n",
       "      <th>Date</th>\n",
       "      <th>Time (UTC)</th>\n",
       "      <th>Latitude</th>\n",
       "      <th>Longitude</th>\n",
       "      <th>Region name</th>\n",
       "      <th>Depth</th>\n",
       "      <th>Magnitude Type</th>\n",
       "      <th>Magnitude</th>\n",
       "      <th>EqId</th>\n",
       "    </tr>\n",
       "  </thead>\n",
       "  <tbody>\n",
       "    <tr>\n",
       "      <th>0</th>\n",
       "      <td>2016-11-16</td>\n",
       "      <td>23:26:22</td>\n",
       "      <td>35.05</td>\n",
       "      <td>23.15</td>\n",
       "      <td>CRETE, GREECE</td>\n",
       "      <td>16</td>\n",
       "      <td>ML</td>\n",
       "      <td>2.4</td>\n",
       "      <td>550922</td>\n",
       "    </tr>\n",
       "    <tr>\n",
       "      <th>1</th>\n",
       "      <td>2016-11-16</td>\n",
       "      <td>22:55:54</td>\n",
       "      <td>42.83</td>\n",
       "      <td>13.11</td>\n",
       "      <td>CENTRAL ITALY</td>\n",
       "      <td>10</td>\n",
       "      <td>ML</td>\n",
       "      <td>2.5</td>\n",
       "      <td>546052</td>\n",
       "    </tr>\n",
       "    <tr>\n",
       "      <th>2</th>\n",
       "      <td>2016-11-16</td>\n",
       "      <td>22:55:16</td>\n",
       "      <td>39.74</td>\n",
       "      <td>20.73</td>\n",
       "      <td>GREECE</td>\n",
       "      <td>13</td>\n",
       "      <td>ML</td>\n",
       "      <td>2.1</td>\n",
       "      <td>550921</td>\n",
       "    </tr>\n",
       "  </tbody>\n",
       "</table>\n",
       "</div>"
      ],
      "text/plain": [
       "         Date Time (UTC)  Latitude  Longitude    Region name  Depth  \\\n",
       "0  2016-11-16   23:26:22     35.05      23.15  CRETE, GREECE     16   \n",
       "1  2016-11-16   22:55:54     42.83      13.11  CENTRAL ITALY     10   \n",
       "2  2016-11-16   22:55:16     39.74      20.73         GREECE     13   \n",
       "\n",
       "  Magnitude Type  Magnitude    EqId  \n",
       "0             ML        2.4  550922  \n",
       "1             ML        2.5  546052  \n",
       "2             ML        2.1  550921  "
      ]
     },
     "execution_count": 19,
     "metadata": {},
     "output_type": "execute_result"
    }
   ],
   "source": [
    "# nacitanie a usporiadanie dat\n",
    "eq_df = pd.DataFrame()\n",
    "for file_name in os.listdir(\"earthquakes\"):\n",
    "    if \".csv\" in file_name:\n",
    "        file = pd.read_csv(f\"earthquakes/{file_name}\", delimiter=\";\")\n",
    "        eq_df = pd.concat([eq_df, file], ignore_index=True)\n",
    "\n",
    "eq_df.drop(columns=[col for col in eq_df.columns if col.startswith(\"Unnamed\")], inplace=True)\n",
    "eq_df.sort_values([\"Date\", \"Time (UTC)\"], inplace=True, ascending=False)\n",
    "eq_df.reset_index(drop=True, inplace=True)\n",
    "eq_df.head(3)"
   ]
  },
  {
   "cell_type": "code",
   "execution_count": 20,
   "id": "185af563-f57e-4612-b385-48b69617ad41",
   "metadata": {},
   "outputs": [
    {
     "data": {
      "text/html": [
       "<div>\n",
       "<style scoped>\n",
       "    .dataframe tbody tr th:only-of-type {\n",
       "        vertical-align: middle;\n",
       "    }\n",
       "\n",
       "    .dataframe tbody tr th {\n",
       "        vertical-align: top;\n",
       "    }\n",
       "\n",
       "    .dataframe thead th {\n",
       "        text-align: right;\n",
       "    }\n",
       "</style>\n",
       "<table border=\"1\" class=\"dataframe\">\n",
       "  <thead>\n",
       "    <tr style=\"text-align: right;\">\n",
       "      <th></th>\n",
       "      <th>Date</th>\n",
       "      <th>Time (UTC)</th>\n",
       "      <th>Latitude</th>\n",
       "      <th>Longitude</th>\n",
       "      <th>Region name</th>\n",
       "      <th>Depth</th>\n",
       "      <th>Magnitude Type</th>\n",
       "      <th>Magnitude</th>\n",
       "      <th>EqId</th>\n",
       "    </tr>\n",
       "  </thead>\n",
       "  <tbody>\n",
       "    <tr>\n",
       "      <th>0</th>\n",
       "      <td>2016-11-16</td>\n",
       "      <td>23:26:22</td>\n",
       "      <td>35.05</td>\n",
       "      <td>23.15</td>\n",
       "      <td>CRETE, GREECE</td>\n",
       "      <td>16</td>\n",
       "      <td>ML</td>\n",
       "      <td>2.4</td>\n",
       "      <td>550922</td>\n",
       "    </tr>\n",
       "    <tr>\n",
       "      <th>1</th>\n",
       "      <td>2016-11-16</td>\n",
       "      <td>22:55:54</td>\n",
       "      <td>42.83</td>\n",
       "      <td>13.11</td>\n",
       "      <td>CENTRAL ITALY</td>\n",
       "      <td>10</td>\n",
       "      <td>ML</td>\n",
       "      <td>2.5</td>\n",
       "      <td>546052</td>\n",
       "    </tr>\n",
       "    <tr>\n",
       "      <th>2</th>\n",
       "      <td>2016-11-16</td>\n",
       "      <td>22:55:16</td>\n",
       "      <td>39.74</td>\n",
       "      <td>20.73</td>\n",
       "      <td>GREECE</td>\n",
       "      <td>13</td>\n",
       "      <td>ML</td>\n",
       "      <td>2.1</td>\n",
       "      <td>550921</td>\n",
       "    </tr>\n",
       "    <tr>\n",
       "      <th>3</th>\n",
       "      <td>2016-11-16</td>\n",
       "      <td>22:43:31</td>\n",
       "      <td>37.32</td>\n",
       "      <td>20.54</td>\n",
       "      <td>IONIAN SEA</td>\n",
       "      <td>4</td>\n",
       "      <td>ML</td>\n",
       "      <td>2.3</td>\n",
       "      <td>550919</td>\n",
       "    </tr>\n",
       "    <tr>\n",
       "      <th>4</th>\n",
       "      <td>2016-11-16</td>\n",
       "      <td>22:01:33</td>\n",
       "      <td>38.66</td>\n",
       "      <td>20.56</td>\n",
       "      <td>GREECE</td>\n",
       "      <td>9</td>\n",
       "      <td>ML</td>\n",
       "      <td>2.5</td>\n",
       "      <td>550917</td>\n",
       "    </tr>\n",
       "  </tbody>\n",
       "</table>\n",
       "</div>"
      ],
      "text/plain": [
       "         Date Time (UTC)  Latitude  Longitude    Region name  Depth  \\\n",
       "0  2016-11-16   23:26:22     35.05      23.15  CRETE, GREECE     16   \n",
       "1  2016-11-16   22:55:54     42.83      13.11  CENTRAL ITALY     10   \n",
       "2  2016-11-16   22:55:16     39.74      20.73         GREECE     13   \n",
       "3  2016-11-16   22:43:31     37.32      20.54     IONIAN SEA      4   \n",
       "4  2016-11-16   22:01:33     38.66      20.56         GREECE      9   \n",
       "\n",
       "  Magnitude Type  Magnitude    EqId  \n",
       "0             ML        2.4  550922  \n",
       "1             ML        2.5  546052  \n",
       "2             ML        2.1  550921  \n",
       "3             ML        2.3  550919  \n",
       "4             ML        2.5  550917  "
      ]
     },
     "execution_count": 20,
     "metadata": {},
     "output_type": "execute_result"
    }
   ],
   "source": [
    "eq_df.head()"
   ]
  },
  {
   "cell_type": "code",
   "execution_count": 7,
   "id": "80c6ddc8-f6fe-4f94-9676-690cdb60e0f1",
   "metadata": {},
   "outputs": [
    {
     "data": {
      "text/plain": [
       "3172"
      ]
     },
     "execution_count": 7,
     "metadata": {},
     "output_type": "execute_result"
    }
   ],
   "source": [
    "len(eq_df)"
   ]
  },
  {
   "cell_type": "code",
   "execution_count": 18,
   "id": "43788010-ca11-4b58-bc6b-b740e6ef8a79",
   "metadata": {},
   "outputs": [
    {
     "data": {
      "text/plain": [
       "Date              0\n",
       "Time (UTC)        0\n",
       "Latitude          0\n",
       "Longitude         0\n",
       "Region name       0\n",
       "Depth             0\n",
       "Magnitude Type    0\n",
       "Magnitude         0\n",
       "EqId              0\n",
       "dtype: int64"
      ]
     },
     "execution_count": 18,
     "metadata": {},
     "output_type": "execute_result"
    }
   ],
   "source": [
    "eq_df.isna().sum()"
   ]
  },
  {
   "cell_type": "code",
   "execution_count": 19,
   "id": "c379e237-2e64-43a6-b95c-5788c3086200",
   "metadata": {},
   "outputs": [
    {
     "data": {
      "text/plain": [
       "Date               object\n",
       "Time (UTC)         object\n",
       "Latitude          float64\n",
       "Longitude         float64\n",
       "Region name        object\n",
       "Depth               int64\n",
       "Magnitude Type     object\n",
       "Magnitude         float64\n",
       "EqId                int64\n",
       "dtype: object"
      ]
     },
     "execution_count": 19,
     "metadata": {},
     "output_type": "execute_result"
    }
   ],
   "source": [
    "eq_df.dtypes"
   ]
  },
  {
   "cell_type": "code",
   "execution_count": 20,
   "id": "b1324891-2158-4be7-a756-c5c3357b74cf",
   "metadata": {},
   "outputs": [
    {
     "data": {
      "text/plain": [
       "ML    3102\n",
       "MB      40\n",
       "M       15\n",
       "MW      15\n",
       "Name: Magnitude Type, dtype: int64"
      ]
     },
     "execution_count": 20,
     "metadata": {},
     "output_type": "execute_result"
    }
   ],
   "source": [
    "# Magnitude Type obsahuje biele znaky a nejednotny format\n",
    "eq_df[\"Magnitude Type\"] = eq_df[\"Magnitude Type\"].apply(lambda attr: attr.strip().upper())\n",
    "eq_df[\"Magnitude Type\"].value_counts()"
   ]
  },
  {
   "cell_type": "code",
   "execution_count": 21,
   "id": "7b39109d-94a9-40bf-ba67-9b34c3892e27",
   "metadata": {
    "tags": []
   },
   "outputs": [],
   "source": [
    "# Depth obsahuje zaporne hodnoty (pravdepodobne chyba pri zadavani do systemu)\n",
    "eq_df[\"Depth\"] = eq_df[\"Depth\"].apply(lambda attr: abs(attr))"
   ]
  },
  {
   "cell_type": "code",
   "execution_count": 24,
   "id": "ee35fdc2-8179-4ad8-9126-ed04c64e22d9",
   "metadata": {},
   "outputs": [],
   "source": [
    "# odvodenie atributov\n",
    "eq_df[[\"Hour\", \"Minute\", \"Second\"]] = list(eq_df[\"Time (UTC)\"].apply(parse_time))\n",
    "eq_df[\"Second\"] = eq_df[\"Second\"].astype(float)\n",
    "eq_df[\"datetime\"] = pd.to_datetime(eq_df[\"Date\"] + \" \" + eq_df[\"Time (UTC)\"])"
   ]
  },
  {
   "cell_type": "code",
   "execution_count": 25,
   "id": "2a6afe11-4d6f-4b84-8feb-eea11757ffe5",
   "metadata": {},
   "outputs": [
    {
     "data": {
      "text/html": [
       "<div>\n",
       "<style scoped>\n",
       "    .dataframe tbody tr th:only-of-type {\n",
       "        vertical-align: middle;\n",
       "    }\n",
       "\n",
       "    .dataframe tbody tr th {\n",
       "        vertical-align: top;\n",
       "    }\n",
       "\n",
       "    .dataframe thead th {\n",
       "        text-align: right;\n",
       "    }\n",
       "</style>\n",
       "<table border=\"1\" class=\"dataframe\">\n",
       "  <thead>\n",
       "    <tr style=\"text-align: right;\">\n",
       "      <th></th>\n",
       "      <th>Date</th>\n",
       "      <th>Time (UTC)</th>\n",
       "      <th>Latitude</th>\n",
       "      <th>Longitude</th>\n",
       "      <th>Region name</th>\n",
       "      <th>Depth</th>\n",
       "      <th>Magnitude Type</th>\n",
       "      <th>Magnitude</th>\n",
       "      <th>EqId</th>\n",
       "      <th>Hour</th>\n",
       "      <th>Minute</th>\n",
       "      <th>Second</th>\n",
       "      <th>datetime</th>\n",
       "    </tr>\n",
       "  </thead>\n",
       "  <tbody>\n",
       "    <tr>\n",
       "      <th>3167</th>\n",
       "      <td>2016-09-30</td>\n",
       "      <td>02:27:13</td>\n",
       "      <td>36.69</td>\n",
       "      <td>25.88</td>\n",
       "      <td>DODECANESE ISLANDS, GREECE</td>\n",
       "      <td>5</td>\n",
       "      <td>ML</td>\n",
       "      <td>3.0</td>\n",
       "      <td>534261</td>\n",
       "      <td>2</td>\n",
       "      <td>27</td>\n",
       "      <td>13.0</td>\n",
       "      <td>2016-09-30 02:27:13</td>\n",
       "    </tr>\n",
       "    <tr>\n",
       "      <th>3168</th>\n",
       "      <td>2016-09-30</td>\n",
       "      <td>02:06:10</td>\n",
       "      <td>37.51</td>\n",
       "      <td>26.67</td>\n",
       "      <td>DODECANESE ISLANDS, GREECE</td>\n",
       "      <td>15</td>\n",
       "      <td>ML</td>\n",
       "      <td>2.5</td>\n",
       "      <td>534260</td>\n",
       "      <td>2</td>\n",
       "      <td>6</td>\n",
       "      <td>10.0</td>\n",
       "      <td>2016-09-30 02:06:10</td>\n",
       "    </tr>\n",
       "    <tr>\n",
       "      <th>3169</th>\n",
       "      <td>2016-09-30</td>\n",
       "      <td>01:26:18</td>\n",
       "      <td>38.92</td>\n",
       "      <td>27.72</td>\n",
       "      <td>WESTERN TURKEY</td>\n",
       "      <td>8</td>\n",
       "      <td>ML</td>\n",
       "      <td>2.9</td>\n",
       "      <td>534254</td>\n",
       "      <td>1</td>\n",
       "      <td>26</td>\n",
       "      <td>18.0</td>\n",
       "      <td>2016-09-30 01:26:18</td>\n",
       "    </tr>\n",
       "    <tr>\n",
       "      <th>3170</th>\n",
       "      <td>2016-09-30</td>\n",
       "      <td>00:33:44</td>\n",
       "      <td>38.43</td>\n",
       "      <td>28.12</td>\n",
       "      <td>WESTERN TURKEY</td>\n",
       "      <td>8</td>\n",
       "      <td>ML</td>\n",
       "      <td>2.3</td>\n",
       "      <td>534246</td>\n",
       "      <td>0</td>\n",
       "      <td>33</td>\n",
       "      <td>44.0</td>\n",
       "      <td>2016-09-30 00:33:44</td>\n",
       "    </tr>\n",
       "    <tr>\n",
       "      <th>3171</th>\n",
       "      <td>2016-09-30</td>\n",
       "      <td>00:17:22</td>\n",
       "      <td>37.44</td>\n",
       "      <td>21.04</td>\n",
       "      <td>SOUTHERN GREECE</td>\n",
       "      <td>6</td>\n",
       "      <td>ML</td>\n",
       "      <td>2.3</td>\n",
       "      <td>535405</td>\n",
       "      <td>0</td>\n",
       "      <td>17</td>\n",
       "      <td>22.0</td>\n",
       "      <td>2016-09-30 00:17:22</td>\n",
       "    </tr>\n",
       "  </tbody>\n",
       "</table>\n",
       "</div>"
      ],
      "text/plain": [
       "            Date Time (UTC)  Latitude  Longitude                 Region name  \\\n",
       "3167  2016-09-30   02:27:13     36.69      25.88  DODECANESE ISLANDS, GREECE   \n",
       "3168  2016-09-30   02:06:10     37.51      26.67  DODECANESE ISLANDS, GREECE   \n",
       "3169  2016-09-30   01:26:18     38.92      27.72              WESTERN TURKEY   \n",
       "3170  2016-09-30   00:33:44     38.43      28.12              WESTERN TURKEY   \n",
       "3171  2016-09-30   00:17:22     37.44      21.04             SOUTHERN GREECE   \n",
       "\n",
       "      Depth Magnitude Type  Magnitude    EqId  Hour  Minute  Second  \\\n",
       "3167      5             ML        3.0  534261     2      27    13.0   \n",
       "3168     15             ML        2.5  534260     2       6    10.0   \n",
       "3169      8             ML        2.9  534254     1      26    18.0   \n",
       "3170      8             ML        2.3  534246     0      33    44.0   \n",
       "3171      6             ML        2.3  535405     0      17    22.0   \n",
       "\n",
       "                datetime  \n",
       "3167 2016-09-30 02:27:13  \n",
       "3168 2016-09-30 02:06:10  \n",
       "3169 2016-09-30 01:26:18  \n",
       "3170 2016-09-30 00:33:44  \n",
       "3171 2016-09-30 00:17:22  "
      ]
     },
     "execution_count": 25,
     "metadata": {},
     "output_type": "execute_result"
    }
   ],
   "source": [
    "eq_df.tail()"
   ]
  },
  {
   "cell_type": "code",
   "execution_count": 29,
   "id": "143875b0-2822-4102-b7cb-8cc690f3c3f6",
   "metadata": {},
   "outputs": [
    {
     "data": {
      "text/plain": [
       "3172"
      ]
     },
     "execution_count": 29,
     "metadata": {},
     "output_type": "execute_result"
    }
   ],
   "source": [
    "len(eq_df)"
   ]
  },
  {
   "cell_type": "code",
   "execution_count": 27,
   "id": "b2936e6a-8019-4bab-ae57-32c4234595ad",
   "metadata": {},
   "outputs": [
    {
     "data": {
      "text/plain": [
       "Date                      object\n",
       "Time (UTC)                object\n",
       "Latitude                 float64\n",
       "Longitude                float64\n",
       "Region name               object\n",
       "Depth                      int64\n",
       "Magnitude Type            object\n",
       "Magnitude                float64\n",
       "EqId                       int64\n",
       "Hour                       int64\n",
       "Minute                     int64\n",
       "Second                   float64\n",
       "datetime          datetime64[ns]\n",
       "dtype: object"
      ]
     },
     "execution_count": 27,
     "metadata": {},
     "output_type": "execute_result"
    }
   ],
   "source": [
    "eq_df.dtypes"
   ]
  },
  {
   "cell_type": "code",
   "execution_count": 28,
   "id": "d91a8e50-ce5d-4168-b1e8-fec131501dd0",
   "metadata": {},
   "outputs": [
    {
     "data": {
      "text/html": [
       "<div>\n",
       "<style scoped>\n",
       "    .dataframe tbody tr th:only-of-type {\n",
       "        vertical-align: middle;\n",
       "    }\n",
       "\n",
       "    .dataframe tbody tr th {\n",
       "        vertical-align: top;\n",
       "    }\n",
       "\n",
       "    .dataframe thead th {\n",
       "        text-align: right;\n",
       "    }\n",
       "</style>\n",
       "<table border=\"1\" class=\"dataframe\">\n",
       "  <thead>\n",
       "    <tr style=\"text-align: right;\">\n",
       "      <th></th>\n",
       "      <th>date</th>\n",
       "      <th>time</th>\n",
       "      <th>latitude</th>\n",
       "      <th>longitude</th>\n",
       "      <th>region name</th>\n",
       "      <th>depth</th>\n",
       "      <th>magnitude type</th>\n",
       "      <th>magnitude</th>\n",
       "      <th>eqid</th>\n",
       "      <th>hour</th>\n",
       "      <th>minute</th>\n",
       "      <th>second</th>\n",
       "      <th>datetime</th>\n",
       "    </tr>\n",
       "  </thead>\n",
       "  <tbody>\n",
       "    <tr>\n",
       "      <th>3000</th>\n",
       "      <td>2016-11-16</td>\n",
       "      <td>23:26:22</td>\n",
       "      <td>35.05</td>\n",
       "      <td>23.15</td>\n",
       "      <td>CRETE, GREECE</td>\n",
       "      <td>16</td>\n",
       "      <td>ML</td>\n",
       "      <td>2.4</td>\n",
       "      <td>550922</td>\n",
       "      <td>23</td>\n",
       "      <td>26</td>\n",
       "      <td>22.0</td>\n",
       "      <td>2016-11-16 23:26:22</td>\n",
       "    </tr>\n",
       "  </tbody>\n",
       "</table>\n",
       "</div>"
      ],
      "text/plain": [
       "            date      time  latitude  longitude    region name  depth  \\\n",
       "3000  2016-11-16  23:26:22     35.05      23.15  CRETE, GREECE     16   \n",
       "\n",
       "     magnitude type  magnitude    eqid  hour  minute  second  \\\n",
       "3000             ML        2.4  550922    23      26    22.0   \n",
       "\n",
       "                datetime  \n",
       "3000 2016-11-16 23:26:22  "
      ]
     },
     "execution_count": 28,
     "metadata": {},
     "output_type": "execute_result"
    }
   ],
   "source": [
    "# uprava nazvov stlpcov\n",
    "eq_df.columns = [col.lower() for col in eq_df.columns]\n",
    "eq_df.rename(columns={\"time (utc)\": \"time\"}, inplace=True)\n",
    "eq_df.head(1)"
   ]
  },
  {
   "cell_type": "code",
   "execution_count": 30,
   "id": "1348598b-6868-4d76-abcf-7898f1eede78",
   "metadata": {},
   "outputs": [],
   "source": [
    "eq_df.to_csv(\"earthquakes.csv\")"
   ]
  },
  {
   "cell_type": "code",
   "execution_count": null,
   "id": "1e6421c5-393a-4afb-9399-e21f496d7b3a",
   "metadata": {},
   "outputs": [],
   "source": []
  }
 ],
 "metadata": {
  "kernelspec": {
   "display_name": "Python 3 (ipykernel)",
   "language": "python",
   "name": "python3"
  },
  "language_info": {
   "codemirror_mode": {
    "name": "ipython",
    "version": 3
   },
   "file_extension": ".py",
   "mimetype": "text/x-python",
   "name": "python",
   "nbconvert_exporter": "python",
   "pygments_lexer": "ipython3",
   "version": "3.12.8"
  }
 },
 "nbformat": 4,
 "nbformat_minor": 5
}

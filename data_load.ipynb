{
 "cells": [
  {
   "cell_type": "markdown",
   "id": "40eca549-d216-4c63-be41-03cb5b6addca",
   "metadata": {},
   "source": [
    "# Nacitanie kniznic"
   ]
  },
  {
   "cell_type": "code",
   "execution_count": 21,
   "id": "6b50203a-dc95-40f8-9d76-2c26df423f2e",
   "metadata": {},
   "outputs": [],
   "source": [
    "import zipfile\n",
    "import os\n",
    "import shutil"
   ]
  },
  {
   "cell_type": "code",
   "execution_count": 19,
   "id": "0029a60c-5a72-4c18-b64a-e7f5c8450a07",
   "metadata": {},
   "outputs": [
    {
     "name": "stdout",
     "output_type": "stream",
     "text": [
      "ZIP súbor je platný.\n",
      "Pokračuj v spracovaní súboru.\n"
     ]
    }
   ],
   "source": [
    "# validacia zip suboru\n",
    "def is_valid_zip(file_path):\n",
    "    if not os.path.isfile(file_path):\n",
    "        print(\"Súbor neexistuje.\")\n",
    "        return False\n",
    "    try:\n",
    "        with zipfile.ZipFile(file_path, 'r') as zip_ref:\n",
    "            zip_ref.testzip()\n",
    "            print(\"ZIP súbor je platný.\")\n",
    "            return True\n",
    "    except zipfile.BadZipFile:\n",
    "        print(\"ZIP súbor je neplatný alebo poškodený.\")\n",
    "        return False\n",
    "\n",
    "file_path = '1to15Nov_DHO_JXN_GVT.zip'\n",
    "if is_valid_zip(file_path):\n",
    "    print(\"Pokračuj v spracovaní súboru.\")\n",
    "else:\n",
    "    print(\"Skontroluj zdroj alebo obsah súboru.\")\n"
   ]
  },
  {
   "cell_type": "code",
   "execution_count": 20,
   "id": "ef13b181-0bcf-4045-a1ba-8733239f9f7f",
   "metadata": {},
   "outputs": [
    {
     "name": "stdout",
     "output_type": "stream",
     "text": [
      "1to15Nov_DHO_JXN_GVT.zip\n",
      "16to31Oct_DHO_JXN_GVT.zip\n"
     ]
    }
   ],
   "source": [
    "# rozbalenie zip suboru\n",
    "for f in os.listdir():\n",
    "    if f.endswith(\".zip\"):\n",
    "        print(f)\n",
    "        try:\n",
    "            with zipfile.ZipFile(f, 'r') as zip_ref:\n",
    "                # zip_ref.printdir()  # Zobrazí obsah ZIP\n",
    "                zip_ref.extractall('signals')  # Extrahuje súbory\n",
    "        except zipfile.BadZipFile:\n",
    "            print(\"Súbor nie je platný ZIP archív.\")"
   ]
  },
  {
   "cell_type": "code",
   "execution_count": 24,
   "id": "5c6da203-8b57-4e23-a7cd-4733c51c0b24",
   "metadata": {},
   "outputs": [],
   "source": [
    "# rozbalenie zip suboru a extrakcia dat\n",
    "for folder in [\"1to15Oct_DHO_JXN_GVT\", \"16to31Oct_DHO_JXN_GVT\", \"1to15Nov_DHO_JXN_GVT\"]:\n",
    "    for file in os.listdir(f\"signals/{folder}\"):\n",
    "        trans = file.split(\".\")[0][-3:]\n",
    "        shutil.move(f\"signals/{folder}/{file}\", f\"signals/{trans}/{file}\")"
   ]
  },
  {
   "cell_type": "code",
   "execution_count": null,
   "id": "4e96d393-5ede-4ea3-be93-41b78d93f377",
   "metadata": {},
   "outputs": [],
   "source": []
  },
  {
   "cell_type": "code",
   "execution_count": null,
   "id": "d656ac77-3599-4017-8b8c-a249738d7ae7",
   "metadata": {},
   "outputs": [],
   "source": []
  }
 ],
 "metadata": {
  "kernelspec": {
   "display_name": "Python 3 (ipykernel)",
   "language": "python",
   "name": "python3"
  },
  "language_info": {
   "codemirror_mode": {
    "name": "ipython",
    "version": 3
   },
   "file_extension": ".py",
   "mimetype": "text/x-python",
   "name": "python",
   "nbconvert_exporter": "python",
   "pygments_lexer": "ipython3",
   "version": "3.12.8"
  }
 },
 "nbformat": 4,
 "nbformat_minor": 5
}
